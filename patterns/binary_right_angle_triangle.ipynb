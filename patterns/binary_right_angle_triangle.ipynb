{
 "cells": [
  {
   "cell_type": "code",
   "execution_count": 2,
   "metadata": {},
   "outputs": [],
   "source": [
    "def pattern_even(k):\n",
    "    c=0\n",
    "    for j in range(0,k):\n",
    "        if c == 0 :\n",
    "            print(c,end='')\n",
    "            c = 1\n",
    "        elif c ==1:\n",
    "            print(c,end='')\n",
    "            c = 0\n",
    "def pattern_odd(k):\n",
    "    c=1\n",
    "    for j in range(0,k):\n",
    "        if c == 0 :\n",
    "            print(c,end='')\n",
    "            c = 1\n",
    "        elif c ==1:\n",
    "            print(c,end='')\n",
    "            c = 0"
   ]
  },
  {
   "cell_type": "code",
   "execution_count": 3,
   "metadata": {},
   "outputs": [
    {
     "name": "stdout",
     "output_type": "stream",
     "text": [
      "1\n",
      "01\n",
      "101\n",
      "0101\n",
      "10101\n"
     ]
    }
   ],
   "source": [
    "n = 5 \n",
    "for i in range(1,n+1):\n",
    "    if i%2==0:\n",
    "        pattern_even(i)\n",
    "    else:\n",
    "        pattern_odd(i)\n",
    "    print()\n",
    "    "
   ]
  }
 ],
 "metadata": {
  "kernelspec": {
   "display_name": "Python 3",
   "language": "python",
   "name": "python3"
  },
  "language_info": {
   "codemirror_mode": {
    "name": "ipython",
    "version": 3
   },
   "file_extension": ".py",
   "mimetype": "text/x-python",
   "name": "python",
   "nbconvert_exporter": "python",
   "pygments_lexer": "ipython3",
   "version": "3.11.2"
  },
  "orig_nbformat": 4
 },
 "nbformat": 4,
 "nbformat_minor": 2
}
